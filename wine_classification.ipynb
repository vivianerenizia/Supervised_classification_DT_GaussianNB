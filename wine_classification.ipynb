{
 "cells": [
  {
   "cell_type": "markdown",
   "id": "collected-struggle",
   "metadata": {},
   "source": [
    "<h1 style='color: blue; font-size: 36px; font-weight: bold;'>Data Science - Decision trees</h1> "
   ]
  },
  {
   "cell_type": "markdown",
   "id": "empirical-opinion",
   "metadata": {},
   "source": [
    "# <font color='red' style='font-size: 30px;'>Conhecendo o Dataset</font>\n",
    "<hr style='border: 2px solid blue;'>"
   ]
  },
  {
   "cell_type": "markdown",
   "id": "developing-rocket",
   "metadata": {},
   "source": [
    "## Importando bibliotecas"
   ]
  },
  {
   "cell_type": "code",
   "execution_count": 66,
   "id": "particular-cheese",
   "metadata": {},
   "outputs": [],
   "source": [
    "import matplotlib.pyplot as plt\n",
    "import pandas as pd\n",
    "import numpy as np\n",
    "import os\n",
    "from os import system\n",
    "import seaborn as sns\n",
    "import pydot_ng as pydot\n",
    "import pydotplus\n",
    "from sklearn.naive_bayes import GaussianNB\n",
    "from sklearn.tree import export_graphviz\n",
    "from sklearn.tree import DecisionTreeClassifier, export_graphviz\n",
    "from sklearn.preprocessing import LabelEncoder, StandardScaler\n",
    "from sklearn.metrics import confusion_matrix, classification_report, roc_curve\n",
    "from sklearn.metrics import accuracy_score, roc_auc_score, auc, precision_recall_curve\n",
    "from sklearn.model_selection import train_test_split, cross_val_score\n",
    "from sklearn.preprocessing import LabelEncoder\n",
    "from pydot import graph_from_dot_data\n",
    "from time import process_time\n",
    "#Daqui pra baixo a importação é diferente do convencional devido as versões do scikitlearn;\n",
    "#A partir da v0.23 só é possível utilizar sklearn.externals.six dessa forma: (ou fazendo downgrade para versões anteriores)\n",
    "from six import StringIO\n",
    "import graphviz\n",
    "import six\n",
    "import sys\n",
    "sys.modules['sklearn.externals.six'] = six"
   ]
  },
  {
   "cell_type": "markdown",
   "id": "educational-attendance",
   "metadata": {},
   "source": [
    "## Bibliotecas opcionais\n",
    "\n",
    "https://docs.python.org/3/library/warnings.html"
   ]
  },
  {
   "cell_type": "code",
   "execution_count": 67,
   "id": "hindu-piano",
   "metadata": {},
   "outputs": [],
   "source": [
    "import warnings\n",
    "warnings.filterwarnings('ignore') #ou warnings.filterwarnings(action='once')"
   ]
  },
  {
   "cell_type": "markdown",
   "id": "material-fifth",
   "metadata": {},
   "source": [
    "## O Dataset e o Projeto\n",
    "<hr>\n",
    "\n",
    "### Fonte: [Red Wine Quality](https://www.kaggle.com/uciml/red-wine-quality-cortez-et-al-2009) \n",
    "\n",
    "### Descrição:\n",
    "<p style='font-size: 18px; line-height: 2; margin: 10px 50px; text-align: justify;'>Os dois conjuntos de dados estão relacionados com as variantes tinto e branco do vinho \"Vinho Verde\" português. Para mais detalhes, consulte a referência [Cortez et al., 2009]. Devido a questões de privacidade e logística, apenas variáveis ​​físico-químicas (entradas) e sensoriais (saída) estão disponíveis (por exemplo, não há dados sobre os tipos de uva, marca do vinho, preço de venda do vinho, etc.).\n",
    "\n",
    "</p>\n",
    "\n",
    "<p style='font-size: 18px; line-height: 2; margin: 10px 50px; text-align: justify;'>Esses conjuntos de dados podem ser vistos como tarefas de classificação ou regressão. As classes são ordenadas e não equilibradas (por exemplo, há muito mais vinhos normais do que excelentes ou pobres).</p>\n",
    "\n",
    "<p style='font-size: 18px; line-height: 2; margin: 10px 50px; text-align: justify;'>Este conjunto de dados também está disponível no repositório de aprendizado de máquina UCI: https://archive.ics.uci.edu/ml/datasets/wine+quality</p>\n",
    "\n",
    "\n",
    "### Dados:\n",
    "<ul style='font-size: 18px; line-height: 2; text-align: justify;'> \n",
    "<p style='font-size: 18px; line-height: 2; margin: 10px 50px; text-align: justify;'><b>Variáveis de entrada (com base em testes físico-químicos):</b></p>\n",
    "    <li><b>1 </b>acidez fixa</li>\n",
    "    <li><b>2 </b>acidez volátil</li>\n",
    "    <li><b>3 </b>ácido cítrico</li>\n",
    "    <li><b>4 </b>açúcar residual</li>\n",
    "    <li><b>5 </b>cloretos</li>\n",
    "    <li><b>6 </b>dióxido de enxofre livre</li>\n",
    "    <li><b>7 </b>dióxido de enxofre total</li>\n",
    "    <li><b>8 </b>densidade</li>\n",
    "    <li><b>9 </b>pH</li>\n",
    "    <li><b>10 </b>sulfatos</li>\n",
    "    <li><b>11 </b>álcool</li>\n",
    "    <p style='font-size: 18px; line-height: 2; margin: 10px 50px; text-align: justify;'><b>Variável de saída (com base em dados sensoriais):</b></p>\n",
    "    <li><b>12 </b>qualidade (pontuação entre 0 e 10)</li>\n",
    "</ul>"
   ]
  },
  {
   "cell_type": "markdown",
   "id": "beginning-bristol",
   "metadata": {},
   "source": [
    "## Leitura dos dados"
   ]
  },
  {
   "cell_type": "code",
   "execution_count": 68,
   "id": "forced-cologne",
   "metadata": {},
   "outputs": [],
   "source": [
    "wine = pd.read_csv('winequality-red.csv')\n",
    "wine2 = pd.read_csv('winequality-red.csv')"
   ]
  },
  {
   "cell_type": "markdown",
   "id": "current-situation",
   "metadata": {},
   "source": [
    "## Verifica a ocorrência de valores faltantes"
   ]
  },
  {
   "cell_type": "code",
   "execution_count": 69,
   "id": "mathematical-poverty",
   "metadata": {},
   "outputs": [
    {
     "name": "stdout",
     "output_type": "stream",
     "text": [
      "Valores faltantes: False\n"
     ]
    }
   ],
   "source": [
    "print(\"Valores faltantes:\", wine.isnull().values.any())"
   ]
  },
  {
   "cell_type": "markdown",
   "id": "several-court",
   "metadata": {},
   "source": [
    "## Visualizando os dados:"
   ]
  },
  {
   "cell_type": "code",
   "execution_count": 70,
   "id": "seasonal-covering",
   "metadata": {},
   "outputs": [
    {
     "data": {
      "text/html": [
       "<div>\n",
       "<style scoped>\n",
       "    .dataframe tbody tr th:only-of-type {\n",
       "        vertical-align: middle;\n",
       "    }\n",
       "\n",
       "    .dataframe tbody tr th {\n",
       "        vertical-align: top;\n",
       "    }\n",
       "\n",
       "    .dataframe thead th {\n",
       "        text-align: right;\n",
       "    }\n",
       "</style>\n",
       "<table border=\"1\" class=\"dataframe\">\n",
       "  <thead>\n",
       "    <tr style=\"text-align: right;\">\n",
       "      <th></th>\n",
       "      <th>fixed acidity</th>\n",
       "      <th>volatile acidity</th>\n",
       "      <th>citric acid</th>\n",
       "      <th>residual sugar</th>\n",
       "      <th>chlorides</th>\n",
       "      <th>free sulfur dioxide</th>\n",
       "      <th>total sulfur dioxide</th>\n",
       "      <th>density</th>\n",
       "      <th>pH</th>\n",
       "      <th>sulphates</th>\n",
       "      <th>alcohol</th>\n",
       "      <th>quality</th>\n",
       "    </tr>\n",
       "  </thead>\n",
       "  <tbody>\n",
       "    <tr>\n",
       "      <th>0</th>\n",
       "      <td>7.4</td>\n",
       "      <td>0.700</td>\n",
       "      <td>0.00</td>\n",
       "      <td>1.9</td>\n",
       "      <td>0.076</td>\n",
       "      <td>11.0</td>\n",
       "      <td>34.0</td>\n",
       "      <td>0.99780</td>\n",
       "      <td>3.51</td>\n",
       "      <td>0.56</td>\n",
       "      <td>9.4</td>\n",
       "      <td>5</td>\n",
       "    </tr>\n",
       "    <tr>\n",
       "      <th>1</th>\n",
       "      <td>7.8</td>\n",
       "      <td>0.880</td>\n",
       "      <td>0.00</td>\n",
       "      <td>2.6</td>\n",
       "      <td>0.098</td>\n",
       "      <td>25.0</td>\n",
       "      <td>67.0</td>\n",
       "      <td>0.99680</td>\n",
       "      <td>3.20</td>\n",
       "      <td>0.68</td>\n",
       "      <td>9.8</td>\n",
       "      <td>5</td>\n",
       "    </tr>\n",
       "    <tr>\n",
       "      <th>2</th>\n",
       "      <td>7.8</td>\n",
       "      <td>0.760</td>\n",
       "      <td>0.04</td>\n",
       "      <td>2.3</td>\n",
       "      <td>0.092</td>\n",
       "      <td>15.0</td>\n",
       "      <td>54.0</td>\n",
       "      <td>0.99700</td>\n",
       "      <td>3.26</td>\n",
       "      <td>0.65</td>\n",
       "      <td>9.8</td>\n",
       "      <td>5</td>\n",
       "    </tr>\n",
       "    <tr>\n",
       "      <th>3</th>\n",
       "      <td>11.2</td>\n",
       "      <td>0.280</td>\n",
       "      <td>0.56</td>\n",
       "      <td>1.9</td>\n",
       "      <td>0.075</td>\n",
       "      <td>17.0</td>\n",
       "      <td>60.0</td>\n",
       "      <td>0.99800</td>\n",
       "      <td>3.16</td>\n",
       "      <td>0.58</td>\n",
       "      <td>9.8</td>\n",
       "      <td>6</td>\n",
       "    </tr>\n",
       "    <tr>\n",
       "      <th>4</th>\n",
       "      <td>7.4</td>\n",
       "      <td>0.700</td>\n",
       "      <td>0.00</td>\n",
       "      <td>1.9</td>\n",
       "      <td>0.076</td>\n",
       "      <td>11.0</td>\n",
       "      <td>34.0</td>\n",
       "      <td>0.99780</td>\n",
       "      <td>3.51</td>\n",
       "      <td>0.56</td>\n",
       "      <td>9.4</td>\n",
       "      <td>5</td>\n",
       "    </tr>\n",
       "    <tr>\n",
       "      <th>...</th>\n",
       "      <td>...</td>\n",
       "      <td>...</td>\n",
       "      <td>...</td>\n",
       "      <td>...</td>\n",
       "      <td>...</td>\n",
       "      <td>...</td>\n",
       "      <td>...</td>\n",
       "      <td>...</td>\n",
       "      <td>...</td>\n",
       "      <td>...</td>\n",
       "      <td>...</td>\n",
       "      <td>...</td>\n",
       "    </tr>\n",
       "    <tr>\n",
       "      <th>1594</th>\n",
       "      <td>6.2</td>\n",
       "      <td>0.600</td>\n",
       "      <td>0.08</td>\n",
       "      <td>2.0</td>\n",
       "      <td>0.090</td>\n",
       "      <td>32.0</td>\n",
       "      <td>44.0</td>\n",
       "      <td>0.99490</td>\n",
       "      <td>3.45</td>\n",
       "      <td>0.58</td>\n",
       "      <td>10.5</td>\n",
       "      <td>5</td>\n",
       "    </tr>\n",
       "    <tr>\n",
       "      <th>1595</th>\n",
       "      <td>5.9</td>\n",
       "      <td>0.550</td>\n",
       "      <td>0.10</td>\n",
       "      <td>2.2</td>\n",
       "      <td>0.062</td>\n",
       "      <td>39.0</td>\n",
       "      <td>51.0</td>\n",
       "      <td>0.99512</td>\n",
       "      <td>3.52</td>\n",
       "      <td>0.76</td>\n",
       "      <td>11.2</td>\n",
       "      <td>6</td>\n",
       "    </tr>\n",
       "    <tr>\n",
       "      <th>1596</th>\n",
       "      <td>6.3</td>\n",
       "      <td>0.510</td>\n",
       "      <td>0.13</td>\n",
       "      <td>2.3</td>\n",
       "      <td>0.076</td>\n",
       "      <td>29.0</td>\n",
       "      <td>40.0</td>\n",
       "      <td>0.99574</td>\n",
       "      <td>3.42</td>\n",
       "      <td>0.75</td>\n",
       "      <td>11.0</td>\n",
       "      <td>6</td>\n",
       "    </tr>\n",
       "    <tr>\n",
       "      <th>1597</th>\n",
       "      <td>5.9</td>\n",
       "      <td>0.645</td>\n",
       "      <td>0.12</td>\n",
       "      <td>2.0</td>\n",
       "      <td>0.075</td>\n",
       "      <td>32.0</td>\n",
       "      <td>44.0</td>\n",
       "      <td>0.99547</td>\n",
       "      <td>3.57</td>\n",
       "      <td>0.71</td>\n",
       "      <td>10.2</td>\n",
       "      <td>5</td>\n",
       "    </tr>\n",
       "    <tr>\n",
       "      <th>1598</th>\n",
       "      <td>6.0</td>\n",
       "      <td>0.310</td>\n",
       "      <td>0.47</td>\n",
       "      <td>3.6</td>\n",
       "      <td>0.067</td>\n",
       "      <td>18.0</td>\n",
       "      <td>42.0</td>\n",
       "      <td>0.99549</td>\n",
       "      <td>3.39</td>\n",
       "      <td>0.66</td>\n",
       "      <td>11.0</td>\n",
       "      <td>6</td>\n",
       "    </tr>\n",
       "  </tbody>\n",
       "</table>\n",
       "<p>1599 rows × 12 columns</p>\n",
       "</div>"
      ],
      "text/plain": [
       "      fixed acidity  volatile acidity  citric acid  residual sugar  chlorides  \\\n",
       "0               7.4             0.700         0.00             1.9      0.076   \n",
       "1               7.8             0.880         0.00             2.6      0.098   \n",
       "2               7.8             0.760         0.04             2.3      0.092   \n",
       "3              11.2             0.280         0.56             1.9      0.075   \n",
       "4               7.4             0.700         0.00             1.9      0.076   \n",
       "...             ...               ...          ...             ...        ...   \n",
       "1594            6.2             0.600         0.08             2.0      0.090   \n",
       "1595            5.9             0.550         0.10             2.2      0.062   \n",
       "1596            6.3             0.510         0.13             2.3      0.076   \n",
       "1597            5.9             0.645         0.12             2.0      0.075   \n",
       "1598            6.0             0.310         0.47             3.6      0.067   \n",
       "\n",
       "      free sulfur dioxide  total sulfur dioxide  density    pH  sulphates  \\\n",
       "0                    11.0                  34.0  0.99780  3.51       0.56   \n",
       "1                    25.0                  67.0  0.99680  3.20       0.68   \n",
       "2                    15.0                  54.0  0.99700  3.26       0.65   \n",
       "3                    17.0                  60.0  0.99800  3.16       0.58   \n",
       "4                    11.0                  34.0  0.99780  3.51       0.56   \n",
       "...                   ...                   ...      ...   ...        ...   \n",
       "1594                 32.0                  44.0  0.99490  3.45       0.58   \n",
       "1595                 39.0                  51.0  0.99512  3.52       0.76   \n",
       "1596                 29.0                  40.0  0.99574  3.42       0.75   \n",
       "1597                 32.0                  44.0  0.99547  3.57       0.71   \n",
       "1598                 18.0                  42.0  0.99549  3.39       0.66   \n",
       "\n",
       "      alcohol  quality  \n",
       "0         9.4        5  \n",
       "1         9.8        5  \n",
       "2         9.8        5  \n",
       "3         9.8        6  \n",
       "4         9.4        5  \n",
       "...       ...      ...  \n",
       "1594     10.5        5  \n",
       "1595     11.2        6  \n",
       "1596     11.0        6  \n",
       "1597     10.2        5  \n",
       "1598     11.0        6  \n",
       "\n",
       "[1599 rows x 12 columns]"
      ]
     },
     "execution_count": 70,
     "metadata": {},
     "output_type": "execute_result"
    }
   ],
   "source": [
    "wine"
   ]
  },
  {
   "cell_type": "markdown",
   "id": "later-christian",
   "metadata": {},
   "source": [
    "## Verificando o tamanho do dataset"
   ]
  },
  {
   "cell_type": "code",
   "execution_count": 71,
   "id": "industrial-manhattan",
   "metadata": {},
   "outputs": [
    {
     "data": {
      "text/plain": [
       "(1599, 12)"
      ]
     },
     "execution_count": 71,
     "metadata": {},
     "output_type": "execute_result"
    }
   ],
   "source": [
    "wine.shape"
   ]
  },
  {
   "cell_type": "markdown",
   "id": "chicken-percentage",
   "metadata": {},
   "source": [
    "## Visualizando as colunas"
   ]
  },
  {
   "cell_type": "code",
   "execution_count": 72,
   "id": "private-invention",
   "metadata": {},
   "outputs": [
    {
     "name": "stdout",
     "output_type": "stream",
     "text": [
      "Index(['fixed acidity', 'volatile acidity', 'citric acid', 'residual sugar',\n",
      "       'chlorides', 'free sulfur dioxide', 'total sulfur dioxide', 'density',\n",
      "       'pH', 'sulphates', 'alcohol', 'quality'],\n",
      "      dtype='object')\n"
     ]
    }
   ],
   "source": [
    "print(wine.columns)"
   ]
  },
  {
   "cell_type": "markdown",
   "id": "coupled-village",
   "metadata": {},
   "source": [
    "## Visualizando as informações sobre o dataset"
   ]
  },
  {
   "cell_type": "code",
   "execution_count": 73,
   "id": "continental-socket",
   "metadata": {},
   "outputs": [
    {
     "name": "stdout",
     "output_type": "stream",
     "text": [
      "<class 'pandas.core.frame.DataFrame'>\n",
      "RangeIndex: 1599 entries, 0 to 1598\n",
      "Data columns (total 12 columns):\n",
      " #   Column                Non-Null Count  Dtype  \n",
      "---  ------                --------------  -----  \n",
      " 0   fixed acidity         1599 non-null   float64\n",
      " 1   volatile acidity      1599 non-null   float64\n",
      " 2   citric acid           1599 non-null   float64\n",
      " 3   residual sugar        1599 non-null   float64\n",
      " 4   chlorides             1599 non-null   float64\n",
      " 5   free sulfur dioxide   1599 non-null   float64\n",
      " 6   total sulfur dioxide  1599 non-null   float64\n",
      " 7   density               1599 non-null   float64\n",
      " 8   pH                    1599 non-null   float64\n",
      " 9   sulphates             1599 non-null   float64\n",
      " 10  alcohol               1599 non-null   float64\n",
      " 11  quality               1599 non-null   int64  \n",
      "dtypes: float64(11), int64(1)\n",
      "memory usage: 150.0 KB\n",
      "None\n"
     ]
    }
   ],
   "source": [
    "print(wine.info())"
   ]
  },
  {
   "cell_type": "markdown",
   "id": "anonymous-fault",
   "metadata": {},
   "source": [
    "# <font color='red' style='font-size: 30px;'>Análises Preliminares</font>\n",
    "<hr style='border: 2px solid blue;'>"
   ]
  },
  {
   "cell_type": "markdown",
   "id": "bigger-fiber",
   "metadata": {},
   "source": [
    "## Estatísticas descritivas"
   ]
  },
  {
   "cell_type": "code",
   "execution_count": 74,
   "id": "quiet-globe",
   "metadata": {},
   "outputs": [
    {
     "data": {
      "text/html": [
       "<div>\n",
       "<style scoped>\n",
       "    .dataframe tbody tr th:only-of-type {\n",
       "        vertical-align: middle;\n",
       "    }\n",
       "\n",
       "    .dataframe tbody tr th {\n",
       "        vertical-align: top;\n",
       "    }\n",
       "\n",
       "    .dataframe thead th {\n",
       "        text-align: right;\n",
       "    }\n",
       "</style>\n",
       "<table border=\"1\" class=\"dataframe\">\n",
       "  <thead>\n",
       "    <tr style=\"text-align: right;\">\n",
       "      <th></th>\n",
       "      <th>fixed acidity</th>\n",
       "      <th>volatile acidity</th>\n",
       "      <th>citric acid</th>\n",
       "      <th>residual sugar</th>\n",
       "      <th>chlorides</th>\n",
       "      <th>free sulfur dioxide</th>\n",
       "      <th>total sulfur dioxide</th>\n",
       "      <th>density</th>\n",
       "      <th>pH</th>\n",
       "      <th>sulphates</th>\n",
       "      <th>alcohol</th>\n",
       "      <th>quality</th>\n",
       "    </tr>\n",
       "  </thead>\n",
       "  <tbody>\n",
       "    <tr>\n",
       "      <th>count</th>\n",
       "      <td>1599.00</td>\n",
       "      <td>1599.00</td>\n",
       "      <td>1599.00</td>\n",
       "      <td>1599.00</td>\n",
       "      <td>1599.00</td>\n",
       "      <td>1599.00</td>\n",
       "      <td>1599.00</td>\n",
       "      <td>1599.00</td>\n",
       "      <td>1599.00</td>\n",
       "      <td>1599.00</td>\n",
       "      <td>1599.00</td>\n",
       "      <td>1599.00</td>\n",
       "    </tr>\n",
       "    <tr>\n",
       "      <th>mean</th>\n",
       "      <td>8.32</td>\n",
       "      <td>0.53</td>\n",
       "      <td>0.27</td>\n",
       "      <td>2.54</td>\n",
       "      <td>0.09</td>\n",
       "      <td>15.87</td>\n",
       "      <td>46.47</td>\n",
       "      <td>1.00</td>\n",
       "      <td>3.31</td>\n",
       "      <td>0.66</td>\n",
       "      <td>10.42</td>\n",
       "      <td>5.64</td>\n",
       "    </tr>\n",
       "    <tr>\n",
       "      <th>std</th>\n",
       "      <td>1.74</td>\n",
       "      <td>0.18</td>\n",
       "      <td>0.19</td>\n",
       "      <td>1.41</td>\n",
       "      <td>0.05</td>\n",
       "      <td>10.46</td>\n",
       "      <td>32.90</td>\n",
       "      <td>0.00</td>\n",
       "      <td>0.15</td>\n",
       "      <td>0.17</td>\n",
       "      <td>1.07</td>\n",
       "      <td>0.81</td>\n",
       "    </tr>\n",
       "    <tr>\n",
       "      <th>min</th>\n",
       "      <td>4.60</td>\n",
       "      <td>0.12</td>\n",
       "      <td>0.00</td>\n",
       "      <td>0.90</td>\n",
       "      <td>0.01</td>\n",
       "      <td>1.00</td>\n",
       "      <td>6.00</td>\n",
       "      <td>0.99</td>\n",
       "      <td>2.74</td>\n",
       "      <td>0.33</td>\n",
       "      <td>8.40</td>\n",
       "      <td>3.00</td>\n",
       "    </tr>\n",
       "    <tr>\n",
       "      <th>25%</th>\n",
       "      <td>7.10</td>\n",
       "      <td>0.39</td>\n",
       "      <td>0.09</td>\n",
       "      <td>1.90</td>\n",
       "      <td>0.07</td>\n",
       "      <td>7.00</td>\n",
       "      <td>22.00</td>\n",
       "      <td>1.00</td>\n",
       "      <td>3.21</td>\n",
       "      <td>0.55</td>\n",
       "      <td>9.50</td>\n",
       "      <td>5.00</td>\n",
       "    </tr>\n",
       "    <tr>\n",
       "      <th>50%</th>\n",
       "      <td>7.90</td>\n",
       "      <td>0.52</td>\n",
       "      <td>0.26</td>\n",
       "      <td>2.20</td>\n",
       "      <td>0.08</td>\n",
       "      <td>14.00</td>\n",
       "      <td>38.00</td>\n",
       "      <td>1.00</td>\n",
       "      <td>3.31</td>\n",
       "      <td>0.62</td>\n",
       "      <td>10.20</td>\n",
       "      <td>6.00</td>\n",
       "    </tr>\n",
       "    <tr>\n",
       "      <th>75%</th>\n",
       "      <td>9.20</td>\n",
       "      <td>0.64</td>\n",
       "      <td>0.42</td>\n",
       "      <td>2.60</td>\n",
       "      <td>0.09</td>\n",
       "      <td>21.00</td>\n",
       "      <td>62.00</td>\n",
       "      <td>1.00</td>\n",
       "      <td>3.40</td>\n",
       "      <td>0.73</td>\n",
       "      <td>11.10</td>\n",
       "      <td>6.00</td>\n",
       "    </tr>\n",
       "    <tr>\n",
       "      <th>max</th>\n",
       "      <td>15.90</td>\n",
       "      <td>1.58</td>\n",
       "      <td>1.00</td>\n",
       "      <td>15.50</td>\n",
       "      <td>0.61</td>\n",
       "      <td>72.00</td>\n",
       "      <td>289.00</td>\n",
       "      <td>1.00</td>\n",
       "      <td>4.01</td>\n",
       "      <td>2.00</td>\n",
       "      <td>14.90</td>\n",
       "      <td>8.00</td>\n",
       "    </tr>\n",
       "  </tbody>\n",
       "</table>\n",
       "</div>"
      ],
      "text/plain": [
       "       fixed acidity  volatile acidity  citric acid  residual sugar  \\\n",
       "count        1599.00           1599.00      1599.00         1599.00   \n",
       "mean            8.32              0.53         0.27            2.54   \n",
       "std             1.74              0.18         0.19            1.41   \n",
       "min             4.60              0.12         0.00            0.90   \n",
       "25%             7.10              0.39         0.09            1.90   \n",
       "50%             7.90              0.52         0.26            2.20   \n",
       "75%             9.20              0.64         0.42            2.60   \n",
       "max            15.90              1.58         1.00           15.50   \n",
       "\n",
       "       chlorides  free sulfur dioxide  total sulfur dioxide  density       pH  \\\n",
       "count    1599.00              1599.00               1599.00  1599.00  1599.00   \n",
       "mean        0.09                15.87                 46.47     1.00     3.31   \n",
       "std         0.05                10.46                 32.90     0.00     0.15   \n",
       "min         0.01                 1.00                  6.00     0.99     2.74   \n",
       "25%         0.07                 7.00                 22.00     1.00     3.21   \n",
       "50%         0.08                14.00                 38.00     1.00     3.31   \n",
       "75%         0.09                21.00                 62.00     1.00     3.40   \n",
       "max         0.61                72.00                289.00     1.00     4.01   \n",
       "\n",
       "       sulphates  alcohol  quality  \n",
       "count    1599.00  1599.00  1599.00  \n",
       "mean        0.66    10.42     5.64  \n",
       "std         0.17     1.07     0.81  \n",
       "min         0.33     8.40     3.00  \n",
       "25%         0.55     9.50     5.00  \n",
       "50%         0.62    10.20     6.00  \n",
       "75%         0.73    11.10     6.00  \n",
       "max         2.00    14.90     8.00  "
      ]
     },
     "execution_count": 74,
     "metadata": {},
     "output_type": "execute_result"
    }
   ],
   "source": [
    "wine.describe().round(2)"
   ]
  },
  {
   "cell_type": "markdown",
   "id": "immune-jonathan",
   "metadata": {},
   "source": [
    "## Histograma para visualização da distribuição de frequências das colunas "
   ]
  },
  {
   "cell_type": "code",
   "execution_count": 75,
   "id": "accessory-visiting",
   "metadata": {},
   "outputs": [
    {
     "data": {
      "image/png": "[encoded data removed]",
      "text/plain": [
       "<Figure size 864x720 with 12 Axes>"
      ]
     },
     "metadata": {
      "needs_background": "light"
     },
     "output_type": "display_data"
    }
   ],
   "source": [
    "wine.hist(figsize=(12, 10))\n",
    "plt.show()"
   ]
  },
  {
   "cell_type": "markdown",
   "id": "composite-romance",
   "metadata": {},
   "source": [
    "## Dropando a coluna \"quality\" do dataset \"wine2\", pois quality é nosso fator de classificação"
   ]
  },
  {
   "cell_type": "code",
   "execution_count": 76,
   "id": "apart-territory",
   "metadata": {},
   "outputs": [],
   "source": [
    "del wine2['quality']"
   ]
  },
  {
   "cell_type": "markdown",
   "id": "psychological-schedule",
   "metadata": {},
   "source": [
    "## Matriz de correlação\n",
    "\n",
    "<p style='font-size: 18px; line-height: 2; margin: 10px 50px; text-align: justify;'>O <b>coeficiente de correlação</b> é uma medida de associação linear entre duas variáveis e situa-se entre <b>-1</b> e <b>+1</b> sendo que <b>-1</b> indica associação negativa perfeita e <b>+1</b> indica associação positiva perfeita.</p>\n",
    "\n",
    "<p style='font-size: 18px; line-height: 2; margin: 10px 50px; text-align: justify;'> Em modelos de regressão linear, é importante verificarmos se as variáveis explicativas (X's) <b>têm forte correlação com a variável dependente (Y)</b> e se as variáveis explicativas (X's) <b>não tenham forte correlação entre si.</b></p>"
   ]
  },
  {
   "cell_type": "code",
   "execution_count": 77,
   "id": "subject-worcester",
   "metadata": {},
   "outputs": [
    {
     "data": {
      "text/html": [
       "<div>\n",
       "<style scoped>\n",
       "    .dataframe tbody tr th:only-of-type {\n",
       "        vertical-align: middle;\n",
       "    }\n",
       "\n",
       "    .dataframe tbody tr th {\n",
       "        vertical-align: top;\n",
       "    }\n",
       "\n",
       "    .dataframe thead th {\n",
       "        text-align: right;\n",
       "    }\n",
       "</style>\n",
       "<table border=\"1\" class=\"dataframe\">\n",
       "  <thead>\n",
       "    <tr style=\"text-align: right;\">\n",
       "      <th></th>\n",
       "      <th>fixed acidity</th>\n",
       "      <th>volatile acidity</th>\n",
       "      <th>citric acid</th>\n",
       "      <th>residual sugar</th>\n",
       "      <th>chlorides</th>\n",
       "      <th>free sulfur dioxide</th>\n",
       "      <th>total sulfur dioxide</th>\n",
       "      <th>density</th>\n",
       "      <th>pH</th>\n",
       "      <th>sulphates</th>\n",
       "      <th>alcohol</th>\n",
       "    </tr>\n",
       "  </thead>\n",
       "  <tbody>\n",
       "    <tr>\n",
       "      <th>fixed acidity</th>\n",
       "      <td>1.000000</td>\n",
       "      <td>-0.256131</td>\n",
       "      <td>0.671703</td>\n",
       "      <td>0.114777</td>\n",
       "      <td>0.093705</td>\n",
       "      <td>-0.153794</td>\n",
       "      <td>-0.113181</td>\n",
       "      <td>0.668047</td>\n",
       "      <td>-0.682978</td>\n",
       "      <td>0.183006</td>\n",
       "      <td>-0.061668</td>\n",
       "    </tr>\n",
       "    <tr>\n",
       "      <th>volatile acidity</th>\n",
       "      <td>-0.256131</td>\n",
       "      <td>1.000000</td>\n",
       "      <td>-0.552496</td>\n",
       "      <td>0.001918</td>\n",
       "      <td>0.061298</td>\n",
       "      <td>-0.010504</td>\n",
       "      <td>0.076470</td>\n",
       "      <td>0.022026</td>\n",
       "      <td>0.234937</td>\n",
       "      <td>-0.260987</td>\n",
       "      <td>-0.202288</td>\n",
       "    </tr>\n",
       "    <tr>\n",
       "      <th>citric acid</th>\n",
       "      <td>0.671703</td>\n",
       "      <td>-0.552496</td>\n",
       "      <td>1.000000</td>\n",
       "      <td>0.143577</td>\n",
       "      <td>0.203823</td>\n",
       "      <td>-0.060978</td>\n",
       "      <td>0.035533</td>\n",
       "      <td>0.364947</td>\n",
       "      <td>-0.541904</td>\n",
       "      <td>0.312770</td>\n",
       "      <td>0.109903</td>\n",
       "    </tr>\n",
       "    <tr>\n",
       "      <th>residual sugar</th>\n",
       "      <td>0.114777</td>\n",
       "      <td>0.001918</td>\n",
       "      <td>0.143577</td>\n",
       "      <td>1.000000</td>\n",
       "      <td>0.055610</td>\n",
       "      <td>0.187049</td>\n",
       "      <td>0.203028</td>\n",
       "      <td>0.355283</td>\n",
       "      <td>-0.085652</td>\n",
       "      <td>0.005527</td>\n",
       "      <td>0.042075</td>\n",
       "    </tr>\n",
       "    <tr>\n",
       "      <th>chlorides</th>\n",
       "      <td>0.093705</td>\n",
       "      <td>0.061298</td>\n",
       "      <td>0.203823</td>\n",
       "      <td>0.055610</td>\n",
       "      <td>1.000000</td>\n",
       "      <td>0.005562</td>\n",
       "      <td>0.047400</td>\n",
       "      <td>0.200632</td>\n",
       "      <td>-0.265026</td>\n",
       "      <td>0.371260</td>\n",
       "      <td>-0.221141</td>\n",
       "    </tr>\n",
       "    <tr>\n",
       "      <th>free sulfur dioxide</th>\n",
       "      <td>-0.153794</td>\n",
       "      <td>-0.010504</td>\n",
       "      <td>-0.060978</td>\n",
       "      <td>0.187049</td>\n",
       "      <td>0.005562</td>\n",
       "      <td>1.000000</td>\n",
       "      <td>0.667666</td>\n",
       "      <td>-0.021946</td>\n",
       "      <td>0.070377</td>\n",
       "      <td>0.051658</td>\n",
       "      <td>-0.069408</td>\n",
       "    </tr>\n",
       "    <tr>\n",
       "      <th>total sulfur dioxide</th>\n",
       "      <td>-0.113181</td>\n",
       "      <td>0.076470</td>\n",
       "      <td>0.035533</td>\n",
       "      <td>0.203028</td>\n",
       "      <td>0.047400</td>\n",
       "      <td>0.667666</td>\n",
       "      <td>1.000000</td>\n",
       "      <td>0.071269</td>\n",
       "      <td>-0.066495</td>\n",
       "      <td>0.042947</td>\n",
       "      <td>-0.205654</td>\n",
       "    </tr>\n",
       "    <tr>\n",
       "      <th>density</th>\n",
       "      <td>0.668047</td>\n",
       "      <td>0.022026</td>\n",
       "      <td>0.364947</td>\n",
       "      <td>0.355283</td>\n",
       "      <td>0.200632</td>\n",
       "      <td>-0.021946</td>\n",
       "      <td>0.071269</td>\n",
       "      <td>1.000000</td>\n",
       "      <td>-0.341699</td>\n",
       "      <td>0.148506</td>\n",
       "      <td>-0.496180</td>\n",
       "    </tr>\n",
       "    <tr>\n",
       "      <th>pH</th>\n",
       "      <td>-0.682978</td>\n",
       "      <td>0.234937</td>\n",
       "      <td>-0.541904</td>\n",
       "      <td>-0.085652</td>\n",
       "      <td>-0.265026</td>\n",
       "      <td>0.070377</td>\n",
       "      <td>-0.066495</td>\n",
       "      <td>-0.341699</td>\n",
       "      <td>1.000000</td>\n",
       "      <td>-0.196648</td>\n",
       "      <td>0.205633</td>\n",
       "    </tr>\n",
       "    <tr>\n",
       "      <th>sulphates</th>\n",
       "      <td>0.183006</td>\n",
       "      <td>-0.260987</td>\n",
       "      <td>0.312770</td>\n",
       "      <td>0.005527</td>\n",
       "      <td>0.371260</td>\n",
       "      <td>0.051658</td>\n",
       "      <td>0.042947</td>\n",
       "      <td>0.148506</td>\n",
       "      <td>-0.196648</td>\n",
       "      <td>1.000000</td>\n",
       "      <td>0.093595</td>\n",
       "    </tr>\n",
       "    <tr>\n",
       "      <th>alcohol</th>\n",
       "      <td>-0.061668</td>\n",
       "      <td>-0.202288</td>\n",
       "      <td>0.109903</td>\n",
       "      <td>0.042075</td>\n",
       "      <td>-0.221141</td>\n",
       "      <td>-0.069408</td>\n",
       "      <td>-0.205654</td>\n",
       "      <td>-0.496180</td>\n",
       "      <td>0.205633</td>\n",
       "      <td>0.093595</td>\n",
       "      <td>1.000000</td>\n",
       "    </tr>\n",
       "  </tbody>\n",
       "</table>\n",
       "</div>"
      ],
      "text/plain": [
       "                      fixed acidity  volatile acidity  citric acid  \\\n",
       "fixed acidity              1.000000         -0.256131     0.671703   \n",
       "volatile acidity          -0.256131          1.000000    -0.552496   \n",
       "citric acid                0.671703         -0.552496     1.000000   \n",
       "residual sugar             0.114777          0.001918     0.143577   \n",
       "chlorides                  0.093705          0.061298     0.203823   \n",
       "free sulfur dioxide       -0.153794         -0.010504    -0.060978   \n",
       "total sulfur dioxide      -0.113181          0.076470     0.035533   \n",
       "density                    0.668047          0.022026     0.364947   \n",
       "pH                        -0.682978          0.234937    -0.541904   \n",
       "sulphates                  0.183006         -0.260987     0.312770   \n",
       "alcohol                   -0.061668         -0.202288     0.109903   \n",
       "\n",
       "                      residual sugar  chlorides  free sulfur dioxide  \\\n",
       "fixed acidity               0.114777   0.093705            -0.153794   \n",
       "volatile acidity            0.001918   0.061298            -0.010504   \n",
       "citric acid                 0.143577   0.203823            -0.060978   \n",
       "residual sugar              1.000000   0.055610             0.187049   \n",
       "chlorides                   0.055610   1.000000             0.005562   \n",
       "free sulfur dioxide         0.187049   0.005562             1.000000   \n",
       "total sulfur dioxide        0.203028   0.047400             0.667666   \n",
       "density                     0.355283   0.200632            -0.021946   \n",
       "pH                         -0.085652  -0.265026             0.070377   \n",
       "sulphates                   0.005527   0.371260             0.051658   \n",
       "alcohol                     0.042075  -0.221141            -0.069408   \n",
       "\n",
       "                      total sulfur dioxide   density        pH  sulphates  \\\n",
       "fixed acidity                    -0.113181  0.668047 -0.682978   0.183006   \n",
       "volatile acidity                  0.076470  0.022026  0.234937  -0.260987   \n",
       "citric acid                       0.035533  0.364947 -0.541904   0.312770   \n",
       "residual sugar                    0.203028  0.355283 -0.085652   0.005527   \n",
       "chlorides                         0.047400  0.200632 -0.265026   0.371260   \n",
       "free sulfur dioxide               0.667666 -0.021946  0.070377   0.051658   \n",
       "total sulfur dioxide              1.000000  0.071269 -0.066495   0.042947   \n",
       "density                           0.071269  1.000000 -0.341699   0.148506   \n",
       "pH                               -0.066495 -0.341699  1.000000  -0.196648   \n",
       "sulphates                         0.042947  0.148506 -0.196648   1.000000   \n",
       "alcohol                          -0.205654 -0.496180  0.205633   0.093595   \n",
       "\n",
       "                       alcohol  \n",
       "fixed acidity        -0.061668  \n",
       "volatile acidity     -0.202288  \n",
       "citric acid           0.109903  \n",
       "residual sugar        0.042075  \n",
       "chlorides            -0.221141  \n",
       "free sulfur dioxide  -0.069408  \n",
       "total sulfur dioxide -0.205654  \n",
       "density              -0.496180  \n",
       "pH                    0.205633  \n",
       "sulphates             0.093595  \n",
       "alcohol               1.000000  "
      ]
     },
     "execution_count": 77,
     "metadata": {},
     "output_type": "execute_result"
    }
   ],
   "source": [
    "wine2.corr()"
   ]
  },
  {
   "cell_type": "markdown",
   "id": "least-trial",
   "metadata": {},
   "source": [
    "## A variável \"corr\" recebe a matriz de correlação acima. "
   ]
  },
  {
   "cell_type": "code",
   "execution_count": 78,
   "id": "universal-regard",
   "metadata": {},
   "outputs": [],
   "source": [
    "corr = wine2.corr()   "
   ]
  },
  {
   "cell_type": "markdown",
   "id": "younger-colombia",
   "metadata": {},
   "source": [
    "## A variável \"mask\" recebe o método de criação de uma máscara para \"esconder\" os dados da matriz de correlação que não são interessantes para nossa análise preliminar."
   ]
  },
  {
   "cell_type": "code",
   "execution_count": 79,
   "id": "phantom-eligibility",
   "metadata": {},
   "outputs": [],
   "source": [
    "mask = np.zeros_like(corr)\n",
    "\n",
    "mask[np.triu_indices_from(mask)] = True"
   ]
  },
  {
   "cell_type": "markdown",
   "id": "tribal-running",
   "metadata": {},
   "source": [
    "## Plot da matriz de correlação utilizando heatmap, após a aplicação da máscara."
   ]
  },
  {
   "cell_type": "code",
   "execution_count": 80,
   "id": "chemical-storage",
   "metadata": {},
   "outputs": [
    {
     "data": {
      "image/png": "[encoded data removed]",
      "text/plain": [
       "<Figure size 720x720 with 2 Axes>"
      ]
     },
     "metadata": {},
     "output_type": "display_data"
    }
   ],
   "source": [
    "with sns.axes_style(\"white\"):\n",
    "\n",
    "    ax = plt.subplots(figsize=(10, 10))\n",
    "\n",
    "    ax = sns.heatmap(corr, mask=mask, cmap='RdBu', vmax=.3, square=True, annot=True)"
   ]
  },
  {
   "cell_type": "markdown",
   "id": "spare-intervention",
   "metadata": {},
   "source": [
    "# <font color='red' style='font-size: 30px;'>Tranformando os rótulos</font>\n",
    "<hr style='border: 2px solid blue;'>"
   ]
  },
  {
   "cell_type": "markdown",
   "id": "electrical-alpha",
   "metadata": {},
   "source": [
    "## Qual o motivo da transformação dos rótulos?\n",
    "\n",
    "<p style='font-size: 18px; line-height: 2; margin: 10px 50px; text-align: justify;'>Como a qualidade está como <b>numeral</b> e precisa ser <b>nominal</b> para a classificação, é preciso classificar o vinho como apenas ruim ou bom, dessa forma, é definido um intervalo na variação que antes era de 2 a 8 em uma classificação binária, agora os vinhos de 2 a 6.5 serão classificados como ruins e os vinhos acima de 6.6 serão classificados como bons sendo: <b>ruins = 0 e bons = 1</b></p>"
   ]
  },
  {
   "cell_type": "code",
   "execution_count": 81,
   "id": "fitted-recipe",
   "metadata": {},
   "outputs": [],
   "source": [
    "bins = (2, 6.5, 8)\n",
    "group_names = ['ruim', 'bom']\n",
    "wine['quality'] = pd.cut(wine['quality'], bins = bins, labels = group_names)"
   ]
  },
  {
   "cell_type": "markdown",
   "id": "surface-processor",
   "metadata": {},
   "source": [
    "## Criando um codificador para converter a qualidade para numeral(0 e 1)"
   ]
  },
  {
   "cell_type": "code",
   "execution_count": 82,
   "id": "following-authority",
   "metadata": {},
   "outputs": [],
   "source": [
    "label_quality = LabelEncoder()"
   ]
  },
  {
   "cell_type": "markdown",
   "id": "periodic-twelve",
   "metadata": {},
   "source": [
    "## Vinhos bons se tornarão 0 enquanto os ruins serão identificados por 1"
   ]
  },
  {
   "cell_type": "code",
   "execution_count": 83,
   "id": "respiratory-laser",
   "metadata": {},
   "outputs": [],
   "source": [
    "wine['quality'] = label_quality.fit_transform(wine['quality'])"
   ]
  },
  {
   "cell_type": "code",
   "execution_count": 84,
   "id": "featured-finland",
   "metadata": {},
   "outputs": [],
   "source": [
    "num_true = len(wine.loc[wine['quality'] == 0])\n",
    "num_false = len(wine.loc[wine['quality'] == 1])"
   ]
  },
  {
   "cell_type": "markdown",
   "id": "interested-drama",
   "metadata": {},
   "source": [
    "## Print da porcentagem existente de vinhos \"bons\" e \"ruins\""
   ]
  },
  {
   "cell_type": "code",
   "execution_count": 85,
   "id": "curious-worry",
   "metadata": {},
   "outputs": [
    {
     "name": "stdout",
     "output_type": "stream",
     "text": [
      "Vinhos bons:  217 (13.57%)\n",
      "vinhos ruins: 1382 (86.43%)\n"
     ]
    }
   ],
   "source": [
    "print(\"Vinhos bons:  {0} ({1:2.2f}%)\".format(num_true, (num_true/ (num_true + num_false)) * 100))\n",
    "print(\"vinhos ruins: {0} ({1:2.2f}%)\".format(num_false, (num_false/ (num_true + num_false)) * 100))"
   ]
  },
  {
   "cell_type": "markdown",
   "id": "heated-fundamentals",
   "metadata": {},
   "source": [
    "# <font color='red' style='font-size: 30px;'>Plotando os gráficos</font>\n",
    "<hr style='border: 2px solid blue;'>"
   ]
  },
  {
   "cell_type": "markdown",
   "id": "finished-james",
   "metadata": {},
   "source": [
    "## Relação quality x volatile acidity"
   ]
  },
  {
   "cell_type": "code",
   "execution_count": 86,
   "id": "amended-mailman",
   "metadata": {},
   "outputs": [
    {
     "data": {
      "text/plain": [
       "<AxesSubplot:xlabel='quality', ylabel='volatile acidity'>"
      ]
     },
     "execution_count": 86,
     "metadata": {},
     "output_type": "execute_result"
    },
    {
     "data": {
      "image/png": "[encoded data removed]",
      "text/plain": [
       "<Figure size 720x432 with 1 Axes>"
      ]
     },
     "metadata": {
      "needs_background": "light"
     },
     "output_type": "display_data"
    }
   ],
   "source": [
    "fig = plt.figure(figsize = (10,6))\n",
    "sns.barplot(x = 'quality', y = 'volatile acidity', data = wine)"
   ]
  },
  {
   "cell_type": "markdown",
   "id": "imperial-potato",
   "metadata": {},
   "source": [
    "## Relação quality x citric acid"
   ]
  },
  {
   "cell_type": "code",
   "execution_count": 87,
   "id": "geological-catch",
   "metadata": {},
   "outputs": [
    {
     "data": {
      "text/plain": [
       "<AxesSubplot:xlabel='quality', ylabel='citric acid'>"
      ]
     },
     "execution_count": 87,
     "metadata": {},
     "output_type": "execute_result"
    },
    {
     "data": {
      "image/png": "[encoded data removed]",
      "text/plain": [
       "<Figure size 720x432 with 1 Axes>"
      ]
     },
     "metadata": {
      "needs_background": "light"
     },
     "output_type": "display_data"
    }
   ],
   "source": [
    "fig = plt.figure(figsize = (10,6))\n",
    "sns.barplot(x = 'quality', y = 'citric acid', data = wine)"
   ]
  },
  {
   "cell_type": "markdown",
   "id": "convenient-aging",
   "metadata": {},
   "source": [
    "## Relação quality x chlorides"
   ]
  },
  {
   "cell_type": "code",
   "execution_count": 88,
   "id": "wireless-roller",
   "metadata": {},
   "outputs": [
    {
     "data": {
      "text/plain": [
       "<AxesSubplot:xlabel='quality', ylabel='chlorides'>"
      ]
     },
     "execution_count": 88,
     "metadata": {},
     "output_type": "execute_result"
    },
    {
     "data": {
      "image/png": "[encoded data removed]",
      "text/plain": [
       "<Figure size 720x432 with 1 Axes>"
      ]
     },
     "metadata": {
      "needs_background": "light"
     },
     "output_type": "display_data"
    }
   ],
   "source": [
    "fig = plt.figure(figsize = (10,6))\n",
    "sns.barplot(x = 'quality', y = 'chlorides', data = wine)"
   ]
  },
  {
   "cell_type": "markdown",
   "id": "hundred-bronze",
   "metadata": {},
   "source": [
    "## Relação quality x free sulfur dioxide"
   ]
  },
  {
   "cell_type": "code",
   "execution_count": 89,
   "id": "greek-singapore",
   "metadata": {},
   "outputs": [
    {
     "data": {
      "text/plain": [
       "<AxesSubplot:xlabel='quality', ylabel='free sulfur dioxide'>"
      ]
     },
     "execution_count": 89,
     "metadata": {},
     "output_type": "execute_result"
    },
    {
     "data": {
      "image/png": "[encoded data removed]",
      "text/plain": [
       "<Figure size 720x432 with 1 Axes>"
      ]
     },
     "metadata": {
      "needs_background": "light"
     },
     "output_type": "display_data"
    }
   ],
   "source": [
    "fig = plt.figure(figsize = (10,6))\n",
    "sns.barplot(x = 'quality', y = 'free sulfur dioxide', data = wine)"
   ]
  },
  {
   "cell_type": "markdown",
   "id": "personal-weekend",
   "metadata": {},
   "source": [
    "## Relação quality x total sulfur dioxide"
   ]
  },
  {
   "cell_type": "code",
   "execution_count": 90,
   "id": "selected-formation",
   "metadata": {},
   "outputs": [
    {
     "data": {
      "text/plain": [
       "<AxesSubplot:xlabel='quality', ylabel='total sulfur dioxide'>"
      ]
     },
     "execution_count": 90,
     "metadata": {},
     "output_type": "execute_result"
    },
    {
     "data": {
      "image/png": "[encoded data removed]",
      "text/plain": [
       "<Figure size 720x432 with 1 Axes>"
      ]
     },
     "metadata": {
      "needs_background": "light"
     },
     "output_type": "display_data"
    }
   ],
   "source": [
    "fig = plt.figure(figsize = (10,6))\n",
    "sns.barplot(x = 'quality', y = 'total sulfur dioxide', data = wine)"
   ]
  },
  {
   "cell_type": "markdown",
   "id": "disciplinary-table",
   "metadata": {},
   "source": [
    "## Relação quality x alcohol"
   ]
  },
  {
   "cell_type": "code",
   "execution_count": 91,
   "id": "premier-culture",
   "metadata": {},
   "outputs": [
    {
     "data": {
      "text/plain": [
       "<AxesSubplot:xlabel='quality', ylabel='alcohol'>"
      ]
     },
     "execution_count": 91,
     "metadata": {},
     "output_type": "execute_result"
    },
    {
     "data": {
      "image/png": "[encoded data removed]",
      "text/plain": [
       "<Figure size 720x432 with 1 Axes>"
      ]
     },
     "metadata": {
      "needs_background": "light"
     },
     "output_type": "display_data"
    }
   ],
   "source": [
    "fig = plt.figure(figsize = (10,6))\n",
    "sns.barplot(x = 'quality', y = 'alcohol', data = wine)"
   ]
  },
  {
   "cell_type": "markdown",
   "id": "broken-camcorder",
   "metadata": {},
   "source": [
    "## Relação quality x sulphates"
   ]
  },
  {
   "cell_type": "code",
   "execution_count": 92,
   "id": "covered-counter",
   "metadata": {},
   "outputs": [
    {
     "data": {
      "text/plain": [
       "<AxesSubplot:xlabel='quality', ylabel='sulphates'>"
      ]
     },
     "execution_count": 92,
     "metadata": {},
     "output_type": "execute_result"
    },
    {
     "data": {
      "image/png": "[encoded data removed]",
      "text/plain": [
       "<Figure size 720x432 with 1 Axes>"
      ]
     },
     "metadata": {
      "needs_background": "light"
     },
     "output_type": "display_data"
    }
   ],
   "source": [
    "fig = plt.figure(figsize = (10,6))\n",
    "sns.barplot(x = 'quality', y = 'sulphates', data = wine)"
   ]
  },
  {
   "cell_type": "markdown",
   "id": "liquid-mouse",
   "metadata": {},
   "source": [
    "## Relação quality x sulphates"
   ]
  },
  {
   "cell_type": "code",
   "execution_count": 93,
   "id": "norwegian-drive",
   "metadata": {},
   "outputs": [
    {
     "data": {
      "text/plain": [
       "<AxesSubplot:xlabel='quality', ylabel='pH'>"
      ]
     },
     "execution_count": 93,
     "metadata": {},
     "output_type": "execute_result"
    },
    {
     "data": {
      "image/png": "[encoded data removed]",
      "text/plain": [
       "<Figure size 720x432 with 1 Axes>"
      ]
     },
     "metadata": {
      "needs_background": "light"
     },
     "output_type": "display_data"
    }
   ],
   "source": [
    "fig = plt.figure(figsize = (10,6))\n",
    "sns.barplot(x = 'quality', y = 'pH', data = wine)"
   ]
  },
  {
   "cell_type": "markdown",
   "id": "daily-breach",
   "metadata": {},
   "source": [
    "## Relação quality x quantidade"
   ]
  },
  {
   "cell_type": "code",
   "execution_count": 94,
   "id": "engaging-pearl",
   "metadata": {},
   "outputs": [
    {
     "data": {
      "text/plain": [
       "<AxesSubplot:xlabel='quality', ylabel='count'>"
      ]
     },
     "execution_count": 94,
     "metadata": {},
     "output_type": "execute_result"
    },
    {
     "data": {
      "image/png": "[encoded data removed]",
      "text/plain": [
       "<Figure size 432x288 with 1 Axes>"
      ]
     },
     "metadata": {
      "needs_background": "light"
     },
     "output_type": "display_data"
    }
   ],
   "source": [
    "sns.countplot(wine['quality'])"
   ]
  },
  {
   "cell_type": "markdown",
   "id": "embedded-howard",
   "metadata": {},
   "source": [
    "## Divisão dos vetores de caracteristicas e rótulos"
   ]
  },
  {
   "cell_type": "code",
   "execution_count": 95,
   "id": "stupid-incident",
   "metadata": {},
   "outputs": [],
   "source": [
    "X = wine.drop('quality', axis = 1)\n",
    "y = wine['quality']"
   ]
  },
  {
   "cell_type": "markdown",
   "id": "periodic-charter",
   "metadata": {},
   "source": [
    "## Divisão do dataset: 75% para treino, 25% para teste"
   ]
  },
  {
   "cell_type": "code",
   "execution_count": 96,
   "id": "advisory-innocent",
   "metadata": {},
   "outputs": [],
   "source": [
    "X_train, X_test, y_train, y_test = train_test_split(X, y, test_size = 0.25, random_state = 42)"
   ]
  },
  {
   "cell_type": "code",
   "execution_count": 97,
   "id": "original-privacy",
   "metadata": {},
   "outputs": [
    {
     "name": "stdout",
     "output_type": "stream",
     "text": [
      "Quantidade de amostras no treino: 74.98% \n",
      "(1199, 11)\n",
      "(1199,)\n"
     ]
    }
   ],
   "source": [
    "print(\"Quantidade de amostras no treino: {0:0.2f}% \".format((len(X_train)/len(wine.index)) * 100))\n",
    "print(X_train.shape)\n",
    "print(y_train.shape)"
   ]
  },
  {
   "cell_type": "code",
   "execution_count": 98,
   "id": "comic-helicopter",
   "metadata": {},
   "outputs": [
    {
     "name": "stdout",
     "output_type": "stream",
     "text": [
      "Quantidade de amostras no teste: 25.02%\n",
      "(400, 11)\n",
      "(400,)\n"
     ]
    }
   ],
   "source": [
    "print(\"Quantidade de amostras no teste: {0:0.2f}%\".format((len(X_test)/len(wine.index)) * 100))\n",
    "print(X_test.shape)\n",
    "print(y_test.shape)"
   ]
  },
  {
   "cell_type": "markdown",
   "id": "stupid-tiffany",
   "metadata": {},
   "source": [
    "# <font color='red' style='font-size: 30px;'>Classificação com Naive Bayes Gassian e Decision Tree</font>\n",
    "<hr style='border: 2px solid blue;'>"
   ]
  },
  {
   "cell_type": "markdown",
   "id": "prescribed-persian",
   "metadata": {},
   "source": [
    "## Instanciando o classificador Gaussiano"
   ]
  },
  {
   "cell_type": "code",
   "execution_count": 99,
   "id": "administrative-thailand",
   "metadata": {},
   "outputs": [],
   "source": [
    "nbc =  GaussianNB()"
   ]
  },
  {
   "cell_type": "markdown",
   "id": "vital-reflection",
   "metadata": {},
   "source": [
    "## Treinamento do classificador"
   ]
  },
  {
   "cell_type": "code",
   "execution_count": 100,
   "id": "foreign-serial",
   "metadata": {},
   "outputs": [
    {
     "data": {
      "text/plain": [
       "GaussianNB()"
      ]
     },
     "execution_count": 100,
     "metadata": {},
     "output_type": "execute_result"
    }
   ],
   "source": [
    "nbc.fit(X_train, y_train)"
   ]
  },
  {
   "cell_type": "markdown",
   "id": "mechanical-commissioner",
   "metadata": {},
   "source": [
    "## Nosso \"X_test\" é passado para o método predict() e a previsão é armazenada na variável \"pred_nbc\""
   ]
  },
  {
   "cell_type": "code",
   "execution_count": 101,
   "id": "essential-hypothesis",
   "metadata": {},
   "outputs": [],
   "source": [
    "pred_nbc = nbc.predict(X_test)"
   ]
  },
  {
   "cell_type": "markdown",
   "id": "fitting-dubai",
   "metadata": {},
   "source": [
    "## Cálculo da acurácia para a classificação usando o método accuracy_score()"
   ]
  },
  {
   "cell_type": "code",
   "execution_count": 102,
   "id": "solved-equality",
   "metadata": {},
   "outputs": [
    {
     "name": "stdout",
     "output_type": "stream",
     "text": [
      "Acurácia: 0.8525\n"
     ]
    }
   ],
   "source": [
    "acuracia_nbc = accuracy_score(y_test, pred_nbc)\n",
    "print(\"Acurácia:\", acuracia_nbc)"
   ]
  },
  {
   "cell_type": "markdown",
   "id": "enormous-increase",
   "metadata": {},
   "source": [
    "## Precisão, recall e support com o método classification_report()"
   ]
  },
  {
   "cell_type": "code",
   "execution_count": 103,
   "id": "crude-croatia",
   "metadata": {},
   "outputs": [
    {
     "name": "stdout",
     "output_type": "stream",
     "text": [
      "              precision    recall  f1-score   support\n",
      "\n",
      "           0       0.47      0.75      0.58        53\n",
      "           1       0.96      0.87      0.91       347\n",
      "\n",
      "    accuracy                           0.85       400\n",
      "   macro avg       0.71      0.81      0.74       400\n",
      "weighted avg       0.89      0.85      0.87       400\n",
      "\n"
     ]
    }
   ],
   "source": [
    "print(classification_report(y_test, pred_nbc))"
   ]
  },
  {
   "cell_type": "markdown",
   "id": "raised-spotlight",
   "metadata": {},
   "source": [
    "## Matriz de confusão"
   ]
  },
  {
   "cell_type": "code",
   "execution_count": 104,
   "id": "deluxe-campaign",
   "metadata": {},
   "outputs": [
    {
     "name": "stdout",
     "output_type": "stream",
     "text": [
      "[[ 40  13]\n",
      " [ 46 301]]\n"
     ]
    }
   ],
   "source": [
    "print(confusion_matrix(y_test, pred_nbc))"
   ]
  },
  {
   "cell_type": "markdown",
   "id": "bibliographic-inspiration",
   "metadata": {},
   "source": [
    "## Aplicação da validação cruzada no classificador GaussianNB\n",
    "# <p style='font-size: 18px; line-height: 2; margin: 10px 50px; text-align: justify;'>A validação cruzada é uma técnica para avaliar a capacidade de generalização de um modelo, a partir de um conjunto de dados. Esta técnica é amplamente empregada em problemas onde o objetivo da modelagem é a predição.</p>"
   ]
  },
  {
   "cell_type": "code",
   "execution_count": 105,
   "id": "industrial-migration",
   "metadata": {},
   "outputs": [
    {
     "name": "stdout",
     "output_type": "stream",
     "text": [
      "Media da validação cruzada do classificador GaussianNB 0.8373459383753501\n"
     ]
    }
   ],
   "source": [
    "nbc_eval = cross_val_score(estimator = nbc, X = X_train, y = y_train, cv = 10)\n",
    "print(\"Media da validação cruzada do classificador GaussianNB\", nbc_eval.mean())"
   ]
  },
  {
   "cell_type": "markdown",
   "id": "american-compromise",
   "metadata": {},
   "source": [
    "## Instanciando o classificador da árvore de decisão"
   ]
  },
  {
   "cell_type": "code",
   "execution_count": 106,
   "id": "adequate-evidence",
   "metadata": {},
   "outputs": [],
   "source": [
    "tree_dtc = DecisionTreeClassifier()"
   ]
  },
  {
   "cell_type": "markdown",
   "id": "possible-strength",
   "metadata": {},
   "source": [
    "## Treinando o classificador "
   ]
  },
  {
   "cell_type": "code",
   "execution_count": 107,
   "id": "nutritional-suspension",
   "metadata": {},
   "outputs": [
    {
     "data": {
      "text/plain": [
       "DecisionTreeClassifier()"
      ]
     },
     "execution_count": 107,
     "metadata": {},
     "output_type": "execute_result"
    }
   ],
   "source": [
    "tree_dtc.fit(X_train, y_train)"
   ]
  },
  {
   "cell_type": "markdown",
   "id": "multiple-columbia",
   "metadata": {},
   "source": [
    "## Nosso \"X_test\" é passado para o método predict() e a previsão é armazenada na variável \"pred_dtc\""
   ]
  },
  {
   "cell_type": "code",
   "execution_count": 108,
   "id": "dramatic-coordinator",
   "metadata": {},
   "outputs": [],
   "source": [
    "pred_dtc = tree_dtc.predict(X_test)"
   ]
  },
  {
   "cell_type": "markdown",
   "id": "minus-roberts",
   "metadata": {},
   "source": [
    "## Cálculo da acurácia para a classificação usando o método accuracy_score()"
   ]
  },
  {
   "cell_type": "code",
   "execution_count": 109,
   "id": "caroline-chapel",
   "metadata": {},
   "outputs": [
    {
     "name": "stdout",
     "output_type": "stream",
     "text": [
      "Acurácia Decision Tree: 0.89\n"
     ]
    }
   ],
   "source": [
    "acuracia_dtc = accuracy_score(y_test, pred_dtc)\n",
    "print(\"Acurácia Decision Tree:\", acuracia_dtc)"
   ]
  },
  {
   "cell_type": "markdown",
   "id": "focal-gathering",
   "metadata": {},
   "source": [
    "## Precisão, recall e support com o método classification_report()"
   ]
  },
  {
   "cell_type": "code",
   "execution_count": 110,
   "id": "forty-track",
   "metadata": {},
   "outputs": [
    {
     "name": "stdout",
     "output_type": "stream",
     "text": [
      "              precision    recall  f1-score   support\n",
      "\n",
      "           0       0.57      0.70      0.63        53\n",
      "           1       0.95      0.92      0.94       347\n",
      "\n",
      "    accuracy                           0.89       400\n",
      "   macro avg       0.76      0.81      0.78       400\n",
      "weighted avg       0.90      0.89      0.89       400\n",
      "\n"
     ]
    }
   ],
   "source": [
    "print(classification_report(y_test, pred_dtc))"
   ]
  },
  {
   "cell_type": "markdown",
   "id": "miniature-albert",
   "metadata": {},
   "source": [
    "## Aplicação da validação cruzada no classificador da Árvore de Decisão"
   ]
  },
  {
   "cell_type": "code",
   "execution_count": 111,
   "id": "sticky-windsor",
   "metadata": {},
   "outputs": [
    {
     "name": "stdout",
     "output_type": "stream",
     "text": [
      "Media da validação cruzada do classificador CART 0.8774439775910364\n"
     ]
    }
   ],
   "source": [
    "dtc_eval = cross_val_score(estimator = tree_dtc, X = X_train, y = y_train, cv = 10)\n",
    "print(\"Media da validação cruzada do classificador CART\", dtc_eval.mean())"
   ]
  },
  {
   "cell_type": "markdown",
   "id": "supported-parcel",
   "metadata": {},
   "source": [
    "## l_columns recebe as colunas do dataset \"wine2\""
   ]
  },
  {
   "cell_type": "code",
   "execution_count": 112,
   "id": "arranged-programmer",
   "metadata": {},
   "outputs": [],
   "source": [
    "l_columns = wine2.columns"
   ]
  },
  {
   "cell_type": "markdown",
   "id": "active-metropolitan",
   "metadata": {},
   "source": [
    "## Salvando o pdf com a árvore de decisão\n",
    "\n",
    "[graphviz](https://graphviz.org/)\n",
    "\n",
    "[pydotplus](https://riptutorial.com/python/example/29348/pydotplus)"
   ]
  },
  {
   "cell_type": "code",
   "execution_count": 113,
   "id": "closed-least",
   "metadata": {},
   "outputs": [
    {
     "data": {
      "text/plain": [
       "True"
      ]
     },
     "execution_count": 113,
     "metadata": {},
     "output_type": "execute_result"
    }
   ],
   "source": [
    "dot_data = export_graphviz(tree_dtc,\n",
    "                           feature_names=l_columns,\n",
    "                           out_file=None,\n",
    "                           filled=True,\n",
    "                           rounded=True)\n",
    "\n",
    "#Export to pdf\n",
    "pydot_graph = pydotplus.graph_from_dot_data(dot_data)\n",
    "pydot_graph.write_pdf('tree.pdf')"
   ]
  },
  {
   "cell_type": "markdown",
   "id": "random-requirement",
   "metadata": {},
   "source": [
    "## Plotando a curva ROC\n",
    "\n",
    "<p style='font-size: 18px; line-height: 2; margin: 10px 50px; text-align: justify;'>A curva ROC mostra o quão bom o modelo criado pode distinguir entre duas coisas (já que é utilizado para classificação). Essas duas coisas podem ser 0 ou 1, ou positivo e negativo. Os melhores modelos conseguem distinguir com precisão o binômio.</p>\n",
    "<p style='font-size: 18px; line-height: 2; margin: 10px 50px; text-align: justify;'>Uma curva ROC traça “True Positive Rate vs. False Positive Rate” em diferentes limiares de classificação.</p>"
   ]
  },
  {
   "cell_type": "markdown",
   "id": "fabulous-riding",
   "metadata": {},
   "source": [
    "## Armazenando os dados que serão utilizados no plot da curva ROC a Decision Tree e para o Naive Bayes Gaussian"
   ]
  },
  {
   "cell_type": "code",
   "execution_count": 114,
   "id": "considerable-accessory",
   "metadata": {},
   "outputs": [],
   "source": [
    "pred_dtc = tree_dtc.predict_proba(X_test)[:,1]\n",
    "fpr_Tree, tpr_Tree, thresholds_Tree = roc_curve(y_test, pred_dtc)\n",
    "roc_auc_Tree = auc(fpr_Tree, tpr_Tree)\n",
    "precision_Tree, recall_Tree, th_Tree = precision_recall_curve(y_test, pred_dtc)"
   ]
  },
  {
   "cell_type": "code",
   "execution_count": 115,
   "id": "absent-diamond",
   "metadata": {},
   "outputs": [],
   "source": [
    "pred_nbc = nbc.predict_proba(X_test)[:,1]\n",
    "fpr_nb, tpr_nb, thresholds_nb = roc_curve(y_test, pred_nbc)\n",
    "roc_auc_nb = auc(fpr_nb, tpr_nb)\n",
    "precision_nb, recall_nb, th_nb = precision_recall_curve(y_test, pred_nbc)"
   ]
  },
  {
   "cell_type": "markdown",
   "id": "electronic-heart",
   "metadata": {},
   "source": [
    "## Plot da curca ROC - Decision Tree e Gaussian"
   ]
  },
  {
   "cell_type": "code",
   "execution_count": 116,
   "id": "saving-giant",
   "metadata": {},
   "outputs": [
    {
     "data": {
      "image/png": "[encoded data removed]",
      "text/plain": [
       "<Figure size 432x288 with 1 Axes>"
      ]
     },
     "metadata": {
      "needs_background": "light"
     },
     "output_type": "display_data"
    }
   ],
   "source": [
    "plt.plot([0, 1], [0, 1], 'k--')\n",
    "plt.plot(fpr_Tree, tpr_Tree, color='red', label='DecisionTree (area = %0.3f)' % roc_auc_Tree)\n",
    "plt.plot(fpr_nb, tpr_nb, color='blue', label='GaussianNB (area = %0.3f)' % roc_auc_nb)\n",
    "plt.xlabel('False Positive Rate')\n",
    "plt.ylabel('True Positive Rate')\n",
    "plt.title('ROC curves Decision Tree and Naive Bayes')\n",
    "plt.legend(loc='best')\n",
    "plt.show()"
   ]
  },
  {
   "cell_type": "markdown",
   "id": "legislative-serial",
   "metadata": {},
   "source": [
    "# <font color='red' style='font-size: 30px;'>Resultados Obtidos</font>\n",
    "<hr style='border: 2px solid blue;'>"
   ]
  },
  {
   "cell_type": "markdown",
   "id": "cutting-vegetation",
   "metadata": {},
   "source": [
    "### Resultado da classificação:"
   ]
  },
  {
   "cell_type": "markdown",
   "id": "continued-symphony",
   "metadata": {},
   "source": [
    "| Classificador | Acurácia | f1-score |\n",
    "| :--- | :---: | :---: |\n",
    "| NB Gaussian | 0.8525 | 0.85 |\n",
    "| Decision Tree | 0.8975 | 0.90 |"
   ]
  },
  {
   "cell_type": "markdown",
   "id": "natural-convertible",
   "metadata": {},
   "source": [
    "### Área da curva ROC: "
   ]
  },
  {
   "cell_type": "markdown",
   "id": "initial-spending",
   "metadata": {},
   "source": [
    "| Classificador | Area |\n",
    "| :--- | :---: |\n",
    "| NB Gaussian | 0.865 |\n",
    "| Decision Tree | 0.805 |"
   ]
  },
  {
   "cell_type": "markdown",
   "id": "ecological-banking",
   "metadata": {},
   "source": [
    "# ´´´<font color='red' style='font-size: 30px;'>Conclusões:</font>\n",
    "<hr style='border: 2px solid blue;'>´´´"
   ]
  },
  {
   "cell_type": "markdown",
   "id": "dutch-magic",
   "metadata": {},
   "source": [
    "## Sobre os algoritmos:\n",
    "### Os dois algoritmos, Decision Tree e Gaussiano, se mostraram eficientes, pois ambos atingiram 0.85%+ de acurácia na classificação.\n",
    "\n",
    "## Sobre o dataset:\n",
    "### Apenas 13% do vinho foi classificado como bom. Se olharmos para a matriz de confusão, podemos ver que a maior taxa de erro de classficação foi em relação ao vinhos bons, acredito que se o dataset fosse um pouco mais extenso, a classificação provavelmente seria melhor, afinal haveriam mais dados para treinamento.  "
   ]
  }
 ],
 "metadata": {
  "kernelspec": {
   "display_name": "Python 3",
   "language": "python",
   "name": "python3"
  },
  "language_info": {
   "codemirror_mode": {
    "name": "ipython",
    "version": 3
   },
   "file_extension": ".py",
   "mimetype": "text/x-python",
   "name": "python",
   "nbconvert_exporter": "python",
   "pygments_lexer": "ipython3",
   "version": "3.9.1"
  }
 },
 "nbformat": 4,
 "nbformat_minor": 5
}
